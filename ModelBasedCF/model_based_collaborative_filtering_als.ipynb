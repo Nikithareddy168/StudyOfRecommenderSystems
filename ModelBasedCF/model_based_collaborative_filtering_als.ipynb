{
 "cells": [
  {
   "cell_type": "code",
   "execution_count": 1,
   "metadata": {},
   "outputs": [],
   "source": [
    "# Import some libraries we'll need\n",
    "import pandas as pd\n",
    "import numpy as np\n",
    "import matplotlib.pyplot as plt\n",
    "import math as math\n",
    "import scipy.sparse as sps\n",
    "from scipy.sparse import csr_matrix"
   ]
  },
  {
   "cell_type": "code",
   "execution_count": 2,
   "metadata": {},
   "outputs": [],
   "source": [
    "def read_review_data(file_name):\n",
    "    review_data = pd.read_csv(file_name)\n",
    "    print \"Sample Data\"\n",
    "    print \"-----------\"\n",
    "    print review_data.sample(5)\n",
    "    return review_data"
   ]
  },
  {
   "cell_type": "code",
   "execution_count": 3,
   "metadata": {},
   "outputs": [],
   "source": [
    "business_data = pd.read_csv('CSV/business.csv')\n",
    "business_data.head(1)\n",
    "business_data.set_index('business_id', inplace = True)"
   ]
  },
  {
   "cell_type": "code",
   "execution_count": 4,
   "metadata": {},
   "outputs": [],
   "source": [
    "def get_restaurant_data(review_data, business_data):\n",
    "    review_data['city'] = review_data.apply(lambda x: business_data.loc[x['business_id'], 'city'], axis=1)\n",
    "    review_data['cat'] = review_data.apply(lambda x: business_data.loc[x['business_id'], 'categories'], axis=1)\n",
    "    restaurant_reviews = review_data[review_data['cat'].str.contains(\"Restaurants\",na=False)]\n",
    "    return restaurant_reviews"
   ]
  },
  {
   "cell_type": "code",
   "execution_count": 5,
   "metadata": {},
   "outputs": [],
   "source": [
    "def get_city_restaurant_data(city, restaurant_reviews):\n",
    "    city_rest_data = restaurant_reviews.loc[review_data['city'] == city]\n",
    "    return city_rest_data"
   ]
  },
  {
   "cell_type": "code",
   "execution_count": 14,
   "metadata": {},
   "outputs": [],
   "source": [
    "def split_rating_matrix(rating_matrix, samples = 2):\n",
    "    users, restaurants =  rating_matrix.nonzero()\n",
    "    test = csr_matrix(rating_matrix.shape)\n",
    "    train = rating_matrix.copy()\n",
    "\n",
    "    num_users = rating_matrix.shape[0]\n",
    "    for u in range(num_users):\n",
    "        idx = restaurants[np.where(users == u)]\n",
    "        np.random.shuffle(idx)\n",
    "        test_idx = idx[-samples:]\n",
    "        train_idx = idx[:-samples]\n",
    "        test[u,test_idx] = rating_matrix[u,test_idx]\n",
    "        train[u,test_idx] = 0\n",
    "\n",
    "    data = np.array(train[train.nonzero()])[0]\n",
    "    row = train.nonzero()[0]\n",
    "    col = train.nonzero()[1]\n",
    "    size = train.shape\n",
    "    train = csr_matrix((data,(row,col)),shape = size)\n",
    "\n",
    "    mult = train.multiply(test)\n",
    "    assert(mult.nnz == 0)\n",
    "    \n",
    "    return train, test"
   ]
  },
  {
   "cell_type": "code",
   "execution_count": 15,
   "metadata": {},
   "outputs": [],
   "source": [
    "def build_sparse_matrix(df):\n",
    "    users = list(df['user_id'].unique())\n",
    "    rests = list(df['business_id'].unique())\n",
    "    data = df['stars'].tolist()\n",
    "    row = df['user_id'].astype('category', categories=users).cat.codes\n",
    "    col = df['business_id'].astype('category', categories=rests).cat.codes\n",
    "    rating_matrix = csr_matrix((data, (row, col)), shape=(len(users), len(rests)))\n",
    "    return rating_matrix"
   ]
  },
  {
   "cell_type": "code",
   "execution_count": 16,
   "metadata": {},
   "outputs": [],
   "source": [
    "def split_train_test(df):\n",
    "    '''Split for train and test data'''\n",
    "    rating_matrix = build_sparse_matrix(df)\n",
    "    train, test = split_rating_matrix(rating_matrix)\n",
    "    num_train = train.shape[0]\n",
    "    num_test = test.shape[0]\n",
    "    \n",
    "    print \"Number of training samples: {}\".format(num_train)\n",
    "    print \"Number of test samples: {}\".format(num_test)\n",
    "    \n",
    "    return train, test"
   ]
  },
  {
   "cell_type": "code",
   "execution_count": 17,
   "metadata": {},
   "outputs": [],
   "source": [
    "def get_rating_matrix(city_review_data):\n",
    "    unique_users = city_review_data['user_id'].unique().tolist()\n",
    "    unique_rests = city_review_data['business_id'].unique().tolist()\n",
    "    num_user = len(unique_users)\n",
    "    num_rest = len(unique_rests)\n",
    "\n",
    "    print \"Number of Users: {}\".format(num_user)\n",
    "    print \"Number of Restaurent: {}\".format(num_rest)\n",
    "    \n",
    "    train, test = split_train_test(city_review_data)\n",
    "    return train, test"
   ]
  },
  {
   "cell_type": "code",
   "execution_count": 18,
   "metadata": {},
   "outputs": [
    {
     "name": "stdout",
     "output_type": "stream",
     "text": [
      "Sample Data\n",
      "-----------\n",
      "                      user_id             business_id  stars\n",
      "27712  f7Q14HePdG1vZpx28PpDRg  jScBTQtdAt-8RshaiBEHgw      4\n",
      "55151  cBSYFg0yZ7ua5Fl_xcsfNQ  G-5kEa6E6PD5fkBRuA7k9Q      2\n",
      "57509  bnk8hI3N5tprKm_lMK4I-w  VWtT4DKxQ4YVRWT88Z5SMA      5\n",
      "19989  jUZW1alRK8QvdZ-pH1OquQ  HQcel0uvg7N7KfhHJChfSQ      4\n",
      "12634  bLbSNkLggFnqwNNzzq-Ijw  N0apJkxIem2E8irTBRKnHw      3\n",
      "-----------------------------\n",
      "Filtering the Restaurant data\n",
      "-----------------------------\n",
      "                  user_id             business_id  stars       city  \\\n",
      "0  AuIK5tF2GjO7SftHawTLKw  I-5qHCVwT7k_KH67-YOx3A      4  Henderson   \n",
      "2  AuIK5tF2GjO7SftHawTLKw  Zmfq3DVhHdtVChhSxzoUHw      4  Las Vegas   \n",
      "3  AuIK5tF2GjO7SftHawTLKw  pybIuTluqRhH_BQ3CJHlLw      5  Las Vegas   \n",
      "\n",
      "                                                 cat  \n",
      "0  Desserts, Restaurants, American (Traditional),...  \n",
      "2                                  Restaurants, Thai  \n",
      "3                                  Thai, Restaurants  \n",
      "-----------------------------\n",
      "restaurant reviews top 10 cities\n",
      "-----------------------------\n",
      "Las Vegas          70488\n",
      "Henderson           7384\n",
      "North Las Vegas      247\n",
      "Boulder City         214\n",
      "Spring Valley        112\n",
      "Summerlin             93\n",
      "Blue Diamond          58\n",
      "South Las Vegas       52\n",
      "Name: city, dtype: int64\n",
      "-----------------------------\n",
      "Number of Users: 1355\n",
      "Number of Restaurent: 858\n"
     ]
    },
    {
     "name": "stderr",
     "output_type": "stream",
     "text": [
      "/anaconda2/lib/python2.7/site-packages/ipykernel_launcher.py:5: FutureWarning: specifying 'categories' or 'ordered' in .astype() is deprecated; pass a CategoricalDtype instead\n",
      "  \"\"\"\n",
      "/anaconda2/lib/python2.7/site-packages/ipykernel_launcher.py:6: FutureWarning: specifying 'categories' or 'ordered' in .astype() is deprecated; pass a CategoricalDtype instead\n",
      "  \n",
      "/anaconda2/lib/python2.7/site-packages/scipy/sparse/compressed.py:746: SparseEfficiencyWarning: Changing the sparsity structure of a csr_matrix is expensive. lil_matrix is more efficient.\n",
      "  SparseEfficiencyWarning)\n"
     ]
    },
    {
     "name": "stdout",
     "output_type": "stream",
     "text": [
      "Number of training samples: 1355\n",
      "Number of test samples: 1355\n"
     ]
    }
   ],
   "source": [
    "review_data = read_review_data('CSV/40core.csv')\n",
    "print '-----------------------------'\n",
    "print 'Filtering the Restaurant data'\n",
    "print '-----------------------------'\n",
    "restaurant_reviews = get_restaurant_data(review_data, business_data)\n",
    "print restaurant_reviews.head(3)\n",
    "print '-----------------------------'\n",
    "print 'restaurant reviews top 10 cities'\n",
    "print '-----------------------------'\n",
    "print restaurant_reviews['city'].value_counts().head(10)\n",
    "print '-----------------------------'\n",
    "vegas_40 = get_city_restaurant_data('Las Vegas', restaurant_reviews)\n",
    "vegas_40_train, vegas_40_test = get_rating_matrix(vegas_40)"
   ]
  },
  {
   "cell_type": "code",
   "execution_count": 20,
   "metadata": {},
   "outputs": [
    {
     "data": {
      "text/plain": [
       "<1355x858 sparse matrix of type '<type 'numpy.int64'>'\n",
       "\twith 67778 stored elements in Compressed Sparse Row format>"
      ]
     },
     "execution_count": 20,
     "metadata": {},
     "output_type": "execute_result"
    }
   ],
   "source": [
    "vegas_40_train"
   ]
  },
  {
   "cell_type": "code",
   "execution_count": 43,
   "metadata": {},
   "outputs": [],
   "source": [
    "def als(ratings_matrix, k=40, user_reg=0, res_reg=0, iters=10):\n",
    "    ratings_matrix = ratings_matrix.T\n",
    "    user_vec = np.random.rand(ratings_matrix.shape[1],k).T\n",
    "    res_vec = np.random.rand(ratings_matrix.shape[0],k).T\n",
    "    for i in range(iters):\n",
    "        for u in range(ratings_matrix.shape[1]):\n",
    "            user_vec[:,u] = np.linalg.solve(np.dot(res_vec,res_vec.T) + user_reg * np.eye(res_vec.shape[0]), np.dot(res_vec,ratings_matrix[:,u]))\n",
    "        for r in range(ratings_matrix.shape[0]):\n",
    "            res_vec[:,r] = np.linalg.solve(np.dot(user_vec,user_vec.T) + res_reg * np.eye(user_vec.shape[0]), np.dot(user_vec,ratings_matrix[r,:].T))\n",
    "        prediction = np.dot(res_vec.T, user_vec)\n",
    "    return np.dot(res_vec.T, user_vec).T"
   ]
  },
  {
   "cell_type": "code",
   "execution_count": 44,
   "metadata": {},
   "outputs": [],
   "source": [
    "from sklearn.metrics import mean_absolute_error\n",
    "def get_mae(pred, actual):\n",
    "    # Ignore zero terms.\n",
    "    pred = pred[actual.nonzero()].flatten()\n",
    "    actual = actual[actual.nonzero()].flatten()\n",
    "    return mean_absolute_error(pred, actual)"
   ]
  },
  {
   "cell_type": "code",
   "execution_count": null,
   "metadata": {},
   "outputs": [],
   "source": [
    "num_features = np.linspace(10,60,6,dtype=int)\n",
    "test_error_als = []\n",
    "train_error_als = []\n",
    "for i in num_features:\n",
    "    preds_als = als(np.array(vegas_40_train.todense()), k=i, iters = 5)\n",
    "    test_err = get_mae(preds_als, np.array(vegas_40_test.todense()))\n",
    "    test_error_als.append(test_err)\n",
    "\n",
    "fig = plt.figure(figsize=(8,5))\n",
    "plt.plot(num_features,test_error_als,'b-',label = 'test error')\n",
    "plt.title('MAE vs num_features (for ALS)')\n",
    "plt.xlabel('Number of features in a feature vector')\n",
    "plt.ylabel('MAE')\n",
    "plt.legend()"
   ]
  },
  {
   "cell_type": "code",
   "execution_count": 47,
   "metadata": {},
   "outputs": [
    {
     "data": {
      "text/plain": [
       "Text(0,0.5,'MSE')"
      ]
     },
     "execution_count": 47,
     "metadata": {},
     "output_type": "execute_result"
    },
    {
     "data": {
      "image/png": "[encoded data removed]",
      "text/plain": [
       "<Figure size 576x360 with 1 Axes>"
      ]
     },
     "metadata": {},
     "output_type": "display_data"
    }
   ],
   "source": [
    "user_reg= np.logspace(-4,3,7)\n",
    "val_error_als = {}\n",
    "# train_error_als = {}\n",
    "fig = plt.figure(figsize=(8,5))\n",
    "for i in user_reg:\n",
    "    val_error_als[i] = []\n",
    "    preds_als = als(np.array(vegas_40_train.todense()),k=20, iters = 5, user_reg=i, res_reg=i)\n",
    "    val_err = get_mae(preds_als, np.array(vegas_40_test.todense()))\n",
    "    val_error_als[i].append(val_err)\n",
    "plt.plot(np.log10(user_reg),val_error_als.values())\n",
    "plt.title('MSE vs Regularization')\n",
    "plt.xlabel('Regularization (log Scale) (User Reg =  Res Reg)')\n",
    "plt.ylabel('MSE')"
   ]
  },
  {
   "cell_type": "code",
   "execution_count": null,
   "metadata": {},
   "outputs": [],
   "source": []
  }
 ],
 "metadata": {
  "kernelspec": {
   "display_name": "Python 2",
   "language": "python",
   "name": "python2"
  },
  "language_info": {
   "codemirror_mode": {
    "name": "ipython",
    "version": 2
   },
   "file_extension": ".py",
   "mimetype": "text/x-python",
   "name": "python",
   "nbconvert_exporter": "python",
   "pygments_lexer": "ipython2",
   "version": "2.7.15"
  }
 },
 "nbformat": 4,
 "nbformat_minor": 2
}
