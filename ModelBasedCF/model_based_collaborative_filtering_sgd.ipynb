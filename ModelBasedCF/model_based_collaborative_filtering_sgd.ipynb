{
 "cells": [
  {
   "cell_type": "code",
   "execution_count": 1,
   "metadata": {},
   "outputs": [],
   "source": [
    "# Import some libraries we'll need\n",
    "import pandas as pd\n",
    "import numpy as np\n",
    "import matplotlib.pyplot as plt\n",
    "import math as math\n",
    "import seaborn as sns\n",
    "from sklearn.model_selection import train_test_split\n",
    "from numpy import linalg as LA"
   ]
  },
  {
   "cell_type": "code",
   "execution_count": 2,
   "metadata": {},
   "outputs": [],
   "source": [
    "def read_review_data(file_name):\n",
    "    review_data = pd.read_csv(file_name)\n",
    "    print \"Sample Data\"\n",
    "    print \"-----------\"\n",
    "    print review_data.sample(5)\n",
    "    return review_data"
   ]
  },
  {
   "cell_type": "code",
   "execution_count": 3,
   "metadata": {},
   "outputs": [
    {
     "data": {
      "text/html": [
       "<div>\n",
       "<style scoped>\n",
       "    .dataframe tbody tr th:only-of-type {\n",
       "        vertical-align: middle;\n",
       "    }\n",
       "\n",
       "    .dataframe tbody tr th {\n",
       "        vertical-align: top;\n",
       "    }\n",
       "\n",
       "    .dataframe thead th {\n",
       "        text-align: right;\n",
       "    }\n",
       "</style>\n",
       "<table border=\"1\" class=\"dataframe\">\n",
       "  <thead>\n",
       "    <tr style=\"text-align: right;\">\n",
       "      <th></th>\n",
       "      <th>hours.Wednesday</th>\n",
       "      <th>attributes.RestaurantsDelivery</th>\n",
       "      <th>attributes.Open24Hours</th>\n",
       "      <th>attributes.DogsAllowed</th>\n",
       "      <th>attributes.CoatCheck</th>\n",
       "      <th>postal_code</th>\n",
       "      <th>attributes.Smoking</th>\n",
       "      <th>hours.Thursday</th>\n",
       "      <th>attributes.DietaryRestrictions</th>\n",
       "      <th>city</th>\n",
       "      <th>...</th>\n",
       "      <th>attributes.RestaurantsAttire</th>\n",
       "      <th>hours.Sunday</th>\n",
       "      <th>attributes.GoodForMeal</th>\n",
       "      <th>attributes.GoodForDancing</th>\n",
       "      <th>attributes.AcceptsInsurance</th>\n",
       "      <th>attributes.RestaurantsReservations</th>\n",
       "      <th>attributes</th>\n",
       "      <th>attributes.RestaurantsTakeOut</th>\n",
       "      <th>attributes.BikeParking</th>\n",
       "      <th>attributes.OutdoorSeating</th>\n",
       "    </tr>\n",
       "  </thead>\n",
       "  <tbody>\n",
       "    <tr>\n",
       "      <th>0</th>\n",
       "      <td>11:0-21:0</td>\n",
       "      <td>False</td>\n",
       "      <td>NaN</td>\n",
       "      <td>NaN</td>\n",
       "      <td>NaN</td>\n",
       "      <td>T2E 6L6</td>\n",
       "      <td>NaN</td>\n",
       "      <td>11:0-21:0</td>\n",
       "      <td>NaN</td>\n",
       "      <td>Calgary</td>\n",
       "      <td>...</td>\n",
       "      <td>casual</td>\n",
       "      <td>NaN</td>\n",
       "      <td>NaN</td>\n",
       "      <td>NaN</td>\n",
       "      <td>NaN</td>\n",
       "      <td>True</td>\n",
       "      <td>{'BusinessParking': \"{'garage': False, 'street...</td>\n",
       "      <td>True</td>\n",
       "      <td>False</td>\n",
       "      <td>False</td>\n",
       "    </tr>\n",
       "  </tbody>\n",
       "</table>\n",
       "<p>1 rows × 61 columns</p>\n",
       "</div>"
      ],
      "text/plain": [
       "  hours.Wednesday attributes.RestaurantsDelivery attributes.Open24Hours  \\\n",
       "0       11:0-21:0                          False                    NaN   \n",
       "\n",
       "  attributes.DogsAllowed attributes.CoatCheck postal_code attributes.Smoking  \\\n",
       "0                    NaN                  NaN     T2E 6L6                NaN   \n",
       "\n",
       "  hours.Thursday attributes.DietaryRestrictions     city  ...  \\\n",
       "0      11:0-21:0                            NaN  Calgary  ...   \n",
       "\n",
       "  attributes.RestaurantsAttire hours.Sunday attributes.GoodForMeal  \\\n",
       "0                       casual          NaN                    NaN   \n",
       "\n",
       "  attributes.GoodForDancing attributes.AcceptsInsurance  \\\n",
       "0                       NaN                         NaN   \n",
       "\n",
       "   attributes.RestaurantsReservations  \\\n",
       "0                                True   \n",
       "\n",
       "                                          attributes  \\\n",
       "0  {'BusinessParking': \"{'garage': False, 'street...   \n",
       "\n",
       "  attributes.RestaurantsTakeOut  attributes.BikeParking  \\\n",
       "0                          True                   False   \n",
       "\n",
       "  attributes.OutdoorSeating  \n",
       "0                     False  \n",
       "\n",
       "[1 rows x 61 columns]"
      ]
     },
     "execution_count": 3,
     "metadata": {},
     "output_type": "execute_result"
    }
   ],
   "source": [
    "business_data = pd.read_csv('../business.csv')\n",
    "business_data.head(1)"
   ]
  },
  {
   "cell_type": "code",
   "execution_count": 4,
   "metadata": {},
   "outputs": [],
   "source": [
    "business_data.set_index('business_id', inplace = True)"
   ]
  },
  {
   "cell_type": "code",
   "execution_count": 5,
   "metadata": {},
   "outputs": [],
   "source": [
    "def get_restaurant_data(review_data, business_data):\n",
    "    review_data['city'] = review_data.apply(lambda x: business_data.loc[x['business_id'], 'city'], axis=1)\n",
    "    review_data['cat'] = review_data.apply(lambda x: business_data.loc[x['business_id'], 'categories'], axis=1)\n",
    "    restaurant_reviews = review_data[review_data['cat'].str.contains(\"Restaurants\",na=False)]\n",
    "    return restaurant_reviews\n",
    "\n",
    "def get_city_restaurant_data(city, restaurant_reviews):\n",
    "    city_rest_data = restaurant_reviews.loc[review_data['city'] == city]\n",
    "    return city_rest_data"
   ]
  },
  {
   "cell_type": "code",
   "execution_count": 6,
   "metadata": {},
   "outputs": [
    {
     "name": "stdout",
     "output_type": "stream",
     "text": [
      "Sample Data\n",
      "-----------\n",
      "                      user_id             business_id  stars\n",
      "16259  mmUsLiQDb--7BBAxA6wKrA  SVUxmYs6_TvX5kWv0ok-MA      4\n",
      "2676   8NPnK5h5Te91Ot6nbX9a5g  vl2IZrNJEA8npSjqXbdwxw      5\n",
      "20397  WaAOt_eG0_-yLpG3fI--3g  DqcD3YflYhArFsC4KVUnOw      4\n",
      "69524  -uk4wYCSmjWz8vH9XkqroA  L_ZLtfHvfzfoNVQ0-okTXg      5\n",
      "77324  sL9dYZyNLpzLD3cfTWwyOQ  Cr4ipI-tr-R8Q0NilkWNkA      4\n",
      "-----------------------------\n",
      "Filtering the Restaurant data\n",
      "-----------------------------\n",
      "                  user_id             business_id  stars       city  \\\n",
      "0  AuIK5tF2GjO7SftHawTLKw  I-5qHCVwT7k_KH67-YOx3A      4  Henderson   \n",
      "2  AuIK5tF2GjO7SftHawTLKw  Zmfq3DVhHdtVChhSxzoUHw      4  Las Vegas   \n",
      "3  AuIK5tF2GjO7SftHawTLKw  pybIuTluqRhH_BQ3CJHlLw      5  Las Vegas   \n",
      "\n",
      "                                                 cat  \n",
      "0  Desserts, Restaurants, American (Traditional),...  \n",
      "2                                  Restaurants, Thai  \n",
      "3                                  Thai, Restaurants  \n",
      "-----------------------------\n",
      "restaurant reviews top 10 cities\n",
      "-----------------------------\n",
      "Las Vegas          70488\n",
      "Henderson           7384\n",
      "North Las Vegas      247\n",
      "Boulder City         214\n",
      "Spring Valley        112\n",
      "Summerlin             93\n",
      "Blue Diamond          58\n",
      "South Las Vegas       52\n",
      "Name: city, dtype: int64\n",
      "-----------------------------\n"
     ]
    }
   ],
   "source": [
    "review_data = read_review_data('40core.csv')\n",
    "print '-----------------------------'\n",
    "print 'Filtering the Restaurant data'\n",
    "print '-----------------------------'\n",
    "restaurant_reviews = get_restaurant_data(review_data, business_data)\n",
    "print restaurant_reviews.head(3)\n",
    "print '-----------------------------'\n",
    "print 'restaurant reviews top 10 cities'\n",
    "print '-----------------------------'\n",
    "print restaurant_reviews['city'].value_counts().head(10)\n",
    "print '-----------------------------'"
   ]
  },
  {
   "cell_type": "code",
   "execution_count": 7,
   "metadata": {},
   "outputs": [
    {
     "data": {
      "text/html": [
       "<div>\n",
       "<style scoped>\n",
       "    .dataframe tbody tr th:only-of-type {\n",
       "        vertical-align: middle;\n",
       "    }\n",
       "\n",
       "    .dataframe tbody tr th {\n",
       "        vertical-align: top;\n",
       "    }\n",
       "\n",
       "    .dataframe thead th {\n",
       "        text-align: right;\n",
       "    }\n",
       "</style>\n",
       "<table border=\"1\" class=\"dataframe\">\n",
       "  <thead>\n",
       "    <tr style=\"text-align: right;\">\n",
       "      <th></th>\n",
       "      <th>user_id</th>\n",
       "      <th>business_id</th>\n",
       "      <th>stars</th>\n",
       "      <th>city</th>\n",
       "      <th>cat</th>\n",
       "    </tr>\n",
       "  </thead>\n",
       "  <tbody>\n",
       "    <tr>\n",
       "      <th>2</th>\n",
       "      <td>AuIK5tF2GjO7SftHawTLKw</td>\n",
       "      <td>Zmfq3DVhHdtVChhSxzoUHw</td>\n",
       "      <td>4</td>\n",
       "      <td>Las Vegas</td>\n",
       "      <td>Restaurants, Thai</td>\n",
       "    </tr>\n",
       "    <tr>\n",
       "      <th>3</th>\n",
       "      <td>AuIK5tF2GjO7SftHawTLKw</td>\n",
       "      <td>pybIuTluqRhH_BQ3CJHlLw</td>\n",
       "      <td>5</td>\n",
       "      <td>Las Vegas</td>\n",
       "      <td>Thai, Restaurants</td>\n",
       "    </tr>\n",
       "    <tr>\n",
       "      <th>4</th>\n",
       "      <td>AuIK5tF2GjO7SftHawTLKw</td>\n",
       "      <td>SycXTaA4MeJZuDK4Y1owDQ</td>\n",
       "      <td>3</td>\n",
       "      <td>Las Vegas</td>\n",
       "      <td>Burgers, Restaurants, Bars, Nightlife, Sports ...</td>\n",
       "    </tr>\n",
       "    <tr>\n",
       "      <th>5</th>\n",
       "      <td>AuIK5tF2GjO7SftHawTLKw</td>\n",
       "      <td>5shgJB7a-2_gdnzc0gsOtg</td>\n",
       "      <td>5</td>\n",
       "      <td>Las Vegas</td>\n",
       "      <td>Restaurants, Tapas/Small Plates, Tapas Bars</td>\n",
       "    </tr>\n",
       "    <tr>\n",
       "      <th>6</th>\n",
       "      <td>AuIK5tF2GjO7SftHawTLKw</td>\n",
       "      <td>UvF68aNDfzCWQbxO6-647g</td>\n",
       "      <td>3</td>\n",
       "      <td>Las Vegas</td>\n",
       "      <td>Restaurants, Vietnamese, Sandwiches</td>\n",
       "    </tr>\n",
       "  </tbody>\n",
       "</table>\n",
       "</div>"
      ],
      "text/plain": [
       "                  user_id             business_id  stars       city  \\\n",
       "2  AuIK5tF2GjO7SftHawTLKw  Zmfq3DVhHdtVChhSxzoUHw      4  Las Vegas   \n",
       "3  AuIK5tF2GjO7SftHawTLKw  pybIuTluqRhH_BQ3CJHlLw      5  Las Vegas   \n",
       "4  AuIK5tF2GjO7SftHawTLKw  SycXTaA4MeJZuDK4Y1owDQ      3  Las Vegas   \n",
       "5  AuIK5tF2GjO7SftHawTLKw  5shgJB7a-2_gdnzc0gsOtg      5  Las Vegas   \n",
       "6  AuIK5tF2GjO7SftHawTLKw  UvF68aNDfzCWQbxO6-647g      3  Las Vegas   \n",
       "\n",
       "                                                 cat  \n",
       "2                                  Restaurants, Thai  \n",
       "3                                  Thai, Restaurants  \n",
       "4  Burgers, Restaurants, Bars, Nightlife, Sports ...  \n",
       "5        Restaurants, Tapas/Small Plates, Tapas Bars  \n",
       "6                Restaurants, Vietnamese, Sandwiches  "
      ]
     },
     "execution_count": 7,
     "metadata": {},
     "output_type": "execute_result"
    }
   ],
   "source": [
    "def get_city_restaurant_data(city, restaurant_reviews):\n",
    "    city_rest_data = restaurant_reviews.loc[review_data['city'] == city]\n",
    "    return city_rest_data\n",
    "\n",
    "vegas_df = get_city_restaurant_data('Las Vegas', restaurant_reviews)\n",
    "vegas_df.head()"
   ]
  },
  {
   "cell_type": "code",
   "execution_count": 8,
   "metadata": {},
   "outputs": [
    {
     "name": "stdout",
     "output_type": "stream",
     "text": [
      "Number of Users: 1355\n",
      "Number of restaurants: 858\n"
     ]
    }
   ],
   "source": [
    "# Count number of unique users and number of unique restaurants in our dataset\n",
    "unique_users = vegas_df['user_id'].unique().tolist()\n",
    "unique_rests = vegas_df['business_id'].unique().tolist()\n",
    "num_user = len(unique_users)\n",
    "num_rest = len(unique_rests)\n",
    "\n",
    "# Split to train and test\n",
    "train, test = train_test_split(vegas_df, random_state = 8675309, stratify = vegas_df['business_id'])\n",
    "num_train = train.shape[0]\n",
    "num_test = test.shape[0]\n",
    "\n",
    "print \"Number of Users: {}\".format(num_user)\n",
    "print \"Number of restaurants: {}\".format(num_rest)"
   ]
  },
  {
   "cell_type": "code",
   "execution_count": 9,
   "metadata": {},
   "outputs": [
    {
     "data": {
      "text/html": [
       "<div>\n",
       "<style scoped>\n",
       "    .dataframe tbody tr th:only-of-type {\n",
       "        vertical-align: middle;\n",
       "    }\n",
       "\n",
       "    .dataframe tbody tr th {\n",
       "        vertical-align: top;\n",
       "    }\n",
       "\n",
       "    .dataframe thead tr th {\n",
       "        text-align: left;\n",
       "    }\n",
       "</style>\n",
       "<table border=\"1\" class=\"dataframe\">\n",
       "  <thead>\n",
       "    <tr>\n",
       "      <th></th>\n",
       "      <th>user_id</th>\n",
       "      <th colspan=\"2\" halign=\"left\">stars</th>\n",
       "    </tr>\n",
       "    <tr>\n",
       "      <th></th>\n",
       "      <th></th>\n",
       "      <th>count</th>\n",
       "      <th>mean</th>\n",
       "    </tr>\n",
       "  </thead>\n",
       "  <tbody>\n",
       "    <tr>\n",
       "      <th>0</th>\n",
       "      <td>---1lKK3aKOuomHnwAkAow</td>\n",
       "      <td>33</td>\n",
       "      <td>3.787879</td>\n",
       "    </tr>\n",
       "    <tr>\n",
       "      <th>1</th>\n",
       "      <td>--RlSfc-QmcHFGHyX6aVjA</td>\n",
       "      <td>45</td>\n",
       "      <td>3.688889</td>\n",
       "    </tr>\n",
       "    <tr>\n",
       "      <th>2</th>\n",
       "      <td>-267Yx8RmdP6io2-qI4UcQ</td>\n",
       "      <td>72</td>\n",
       "      <td>4.055556</td>\n",
       "    </tr>\n",
       "    <tr>\n",
       "      <th>3</th>\n",
       "      <td>-2gOxVWcnBr5DclrrsWXCA</td>\n",
       "      <td>35</td>\n",
       "      <td>3.885714</td>\n",
       "    </tr>\n",
       "    <tr>\n",
       "      <th>4</th>\n",
       "      <td>-50XWnmQGqBgEI-9ANvLlg</td>\n",
       "      <td>96</td>\n",
       "      <td>4.000000</td>\n",
       "    </tr>\n",
       "  </tbody>\n",
       "</table>\n",
       "</div>"
      ],
      "text/plain": [
       "                  user_id stars          \n",
       "                          count      mean\n",
       "0  ---1lKK3aKOuomHnwAkAow    33  3.787879\n",
       "1  --RlSfc-QmcHFGHyX6aVjA    45  3.688889\n",
       "2  -267Yx8RmdP6io2-qI4UcQ    72  4.055556\n",
       "3  -2gOxVWcnBr5DclrrsWXCA    35  3.885714\n",
       "4  -50XWnmQGqBgEI-9ANvLlg    96  4.000000"
      ]
     },
     "execution_count": 9,
     "metadata": {},
     "output_type": "execute_result"
    }
   ],
   "source": [
    "user_ratings = vegas_df.groupby('user_id').agg(['count','mean']).reset_index()\n",
    "restaurant_ratings = vegas_df.groupby('business_id').agg(['count','mean']).reset_index()\n",
    "\n",
    "user_ratings.head()\n",
    "\n"
   ]
  },
  {
   "cell_type": "code",
   "execution_count": 10,
   "metadata": {},
   "outputs": [
    {
     "name": "stdout",
     "output_type": "stream",
     "text": [
      "13% restaurants have more than 128 reviews\n",
      "52% restaurants have more than 64 reviews\n",
      "100% restaurants have more than 32 reviews\n",
      "50 Users have more than 128 reviews\n",
      "269 Users have more than 64 reviews\n",
      "998 Users have more than 32 reviews\n"
     ]
    }
   ],
   "source": [
    "#   On the training dataset, what is the fraction of restaurants that have more that 32, 64, and 128 reviews respectively? How about the number of Users that have more than 32, 64, and 128 reviews respectively?\n",
    "\n",
    "def GetUserCountWithMoreReviews(review_num):\n",
    "    return user_ratings[user_ratings['stars']['count'] > review_num].shape[0]\n",
    "\n",
    "def GetRestaurantPercentWithMoreReviews(review_num):\n",
    "    return 100 * restaurant_ratings[restaurant_ratings['stars']['count'] > review_num].shape[0] / restaurant_ratings.shape[0]\n",
    "    \n",
    "print '{}% restaurants have more than {} reviews'.format(GetRestaurantPercentWithMoreReviews(128), 128)\n",
    "print '{}% restaurants have more than {} reviews'.format(GetRestaurantPercentWithMoreReviews(64), 64)\n",
    "print '{}% restaurants have more than {} reviews'.format(GetRestaurantPercentWithMoreReviews(32), 32)\n",
    "\n",
    "print '{} Users have more than {} reviews'.format(GetUserCountWithMoreReviews(128), 128)\n",
    "print '{} Users have more than {} reviews'.format(GetUserCountWithMoreReviews(64), 64)\n",
    "print '{} Users have more than {} reviews'.format(GetUserCountWithMoreReviews(32), 32)"
   ]
  },
  {
   "cell_type": "code",
   "execution_count": 11,
   "metadata": {},
   "outputs": [
    {
     "data": {
      "image/png": "[encoded data removed]",
      "text/plain": [
       "<Figure size 432x288 with 1 Axes>"
      ]
     },
     "metadata": {
      "needs_background": "light"
     },
     "output_type": "display_data"
    },
    {
     "data": {
      "image/png": "[encoded data removed]",
      "text/plain": [
       "<Figure size 432x288 with 1 Axes>"
      ]
     },
     "metadata": {
      "needs_background": "light"
     },
     "output_type": "display_data"
    }
   ],
   "source": [
    "plt.xlabel('User Rating count')\n",
    "plt.ylabel('User Rating mean')\n",
    "plt.title('User rating count  - mean')\n",
    "plt.plot(user_ratings['stars']['count'], user_ratings['stars']['mean'], 'r.')\n",
    "plt.show()\n",
    "\n",
    "plt.xlabel('Restaurant Rating count')\n",
    "plt.ylabel('Restaurant Rating mean')\n",
    "plt.title('Restaurant rating count  - mean')\n",
    "plt.plot(restaurant_ratings['stars']['count'], restaurant_ratings['stars']['mean'], 'g.')\n",
    "plt.show()"
   ]
  },
  {
   "cell_type": "code",
   "execution_count": 12,
   "metadata": {},
   "outputs": [
    {
     "name": "stderr",
     "output_type": "stream",
     "text": [
      "/anaconda2/envs/yelplatest/lib/python2.7/site-packages/pandas/core/reshape/merge.py:522: UserWarning: merging between different levels can give an unintended result (2 levels on the left, 1 on the right)\n",
      "  warnings.warn(msg, UserWarning)\n"
     ]
    }
   ],
   "source": [
    "def construct_matrix(data_frame, total_set, row_label, col_label):\n",
    "    indexes = []\n",
    "    matrix = []\n",
    "    mask_matrix = []\n",
    "    for index, grouped in data_frame.groupby(row_label):\n",
    "        indexes.append(index)\n",
    "        joined_ratings = pd.merge(restaurant_ratings,grouped, on=col_label, how='outer').fillna(0)\n",
    "            \n",
    "        matrix.append(joined_ratings['stars'].tolist())\n",
    "        mask_matrix.append(joined_ratings['stars'].map(lambda x : 1 if x != 0 else 0))\n",
    "    return indexes, matrix, mask_matrix\n",
    "    \n",
    "train_user_index, train_user_ratings, train_user_ratings_mask = construct_matrix(train, user_ratings, 'user_id', 'business_id')\n",
    "test_user_index, test_user_ratings, test_user_ratings_mask = construct_matrix(test, user_ratings, 'user_id', 'business_id')"
   ]
  },
  {
   "cell_type": "code",
   "execution_count": 13,
   "metadata": {},
   "outputs": [
    {
     "name": "stdout",
     "output_type": "stream",
     "text": [
      "                business_id stars          \n",
      "                            count      mean\n",
      "272  KalAJyO0Zpg3K1wVwYXBHA   122  3.877049\n"
     ]
    },
    {
     "data": {
      "image/png": "[encoded data removed]",
      "text/plain": [
       "<Figure size 432x288 with 1 Axes>"
      ]
     },
     "metadata": {
      "needs_background": "light"
     },
     "output_type": "display_data"
    }
   ],
   "source": [
    "print restaurant_ratings.sample()\n",
    "rest_avg_rating = vegas_df.groupby('business_id')['stars'].mean().reset_index(name='mean')\n",
    "a = np.ones((num_user, 1))\n",
    "f = np.array([rest_avg_rating['mean'].tolist()])\n",
    "baseline_p = np.dot(a, f)\n",
    "\n",
    "f_hist, bin_edges = np.histogram(f, bins=[3,3.5,4,4.5,5])\n",
    "plt.bar(bin_edges[:-1], f_hist)\n",
    "plt.show()"
   ]
  },
  {
   "cell_type": "code",
   "execution_count": 14,
   "metadata": {},
   "outputs": [
    {
     "name": "stdout",
     "output_type": "stream",
     "text": [
      "train data RMS = 0.966007972696\n"
     ]
    }
   ],
   "source": [
    "def get_RMS(input_matrix, baseline, mask, K):\n",
    "    delta = input_matrix - baseline\n",
    "    return LA.norm(np.multiply(mask, delta)) / math.sqrt(K)\n",
    "\n",
    "print'train data RMS = {0}'.format(get_RMS(baseline_p, train_user_ratings, train_user_ratings_mask, num_train))"
   ]
  },
  {
   "cell_type": "code",
   "execution_count": 15,
   "metadata": {},
   "outputs": [
    {
     "data": {
      "image/png": "[encoded data removed]",
      "text/plain": [
       "<Figure size 432x288 with 1 Axes>"
      ]
     },
     "metadata": {
      "needs_background": "light"
     },
     "output_type": "display_data"
    },
    {
     "data": {
      "image/png": "[encoded data removed]",
      "text/plain": [
       "<Figure size 432x288 with 1 Axes>"
      ]
     },
     "metadata": {
      "needs_background": "light"
     },
     "output_type": "display_data"
    },
    {
     "name": "stdout",
     "output_type": "stream",
     "text": [
      "learning result, prediction = [[4.29256706 4.56998195 3.52115343 ... 4.44456615 3.22829808 3.86915537]\n",
      " [3.78936869 3.66115614 3.35103135 ... 3.84804955 3.44147127 3.57441608]\n",
      " [4.12806974 4.07010033 3.59741816 ... 4.2085286  3.6195254  3.85912489]\n",
      " ...\n",
      " [4.58848712 4.84775577 3.78813255 ... 4.74342281 3.50994738 4.15175173]\n",
      " [4.2385658  4.44144331 3.52306176 ... 4.37427592 3.30034086 3.85072421]\n",
      " [3.19958664 3.49008713 2.57014414 ... 3.3298249  2.27355191 2.84834616]]\n",
      "test prediction RMS = 1.29945677503\n"
     ]
    }
   ],
   "source": [
    "def calculate(R, S, A, F):\n",
    "    return np.multiply(R, S - np.dot(A, F))\n",
    "    \n",
    "def calculate_LP(K, R, S, A, F):\n",
    "    norm = LA.norm(calculate(R, S, A, F))\n",
    "    return norm * norm / K\n",
    "\n",
    "def learn_AF(K, R, S, learning_rate, step, K_test, R_test, S_test):\n",
    "    seq_A = [np.random.rand(num_user,2)]\n",
    "    seq_F = [np.random.rand(2, num_rest)]\n",
    "    train_seq_LP = [calculate_LP(K, R, S, seq_A[-1], seq_F[-1])]\n",
    "    test_seq_LP = [calculate_LP(K_test, R_test, S_test, seq_A[-1], seq_F[-1])]\n",
    "    for i in range(step):\n",
    "        prev_A = seq_A[-1]\n",
    "        prev_F = seq_F[-1]\n",
    "        F_T = np.transpose(prev_F)\n",
    "        A_T = np.transpose(prev_A)\n",
    "        temp = calculate(R, S, prev_A, prev_F) \n",
    "        seq_A.append(prev_A - (-2.0) * np.dot(temp, F_T) * learning_rate / K)\n",
    "        seq_F.append(prev_F - (-2.0) * np.dot(A_T, temp) * learning_rate / K)\n",
    "        train_seq_LP.append(calculate_LP(K, R, S, seq_A[-1], seq_F[-1]))\n",
    "        test_seq_LP.append(calculate_LP(K_test, R_test, S_test, seq_A[-1], seq_F[-1]))\n",
    "    plt.xlabel('step')\n",
    "    plt.ylabel('L(p)')\n",
    "    plt.title('Training data Learning graph, rate = ' + str(learning_rate))\n",
    "    plt.plot(range(step + 1),train_seq_LP)\n",
    "    plt.show()\n",
    "    plt.xlabel('step')\n",
    "    plt.ylabel('L(p)')\n",
    "    plt.title('Test data Learning graph, rate = ' + str(learning_rate))\n",
    "    plt.plot(range(step + 1),test_seq_LP)\n",
    "    plt.show()\n",
    "    return seq_A, seq_F, train_seq_LP, test_seq_LP\n",
    "\n",
    "a_params_seq, f_params_seq, train_lp_seq, test_lp_seq = learn_AF(train.shape[0], train_user_ratings_mask, train_user_ratings, 50.0, 50, test.shape[0], test_user_ratings_mask, test_user_ratings)\n",
    "\n",
    "prediction =  np.dot(a_params_seq[-1], f_params_seq[-1])\n",
    "print \"learning result, prediction = {}\".format(prediction)\n",
    "print \"test prediction RMS = {}\".format(get_RMS(prediction, test_user_ratings, test_user_ratings_mask, test.shape[0]))"
   ]
  },
  {
   "cell_type": "code",
   "execution_count": null,
   "metadata": {},
   "outputs": [],
   "source": []
  }
 ],
 "metadata": {
  "kernelspec": {
   "display_name": "Python 2",
   "language": "python",
   "name": "python2"
  },
  "language_info": {
   "codemirror_mode": {
    "name": "ipython",
    "version": 2
   },
   "file_extension": ".py",
   "mimetype": "text/x-python",
   "name": "python",
   "nbconvert_exporter": "python",
   "pygments_lexer": "ipython2",
   "version": "2.7.15"
  }
 },
 "nbformat": 4,
 "nbformat_minor": 2
}
