{
 "cells": [
  {
   "cell_type": "code",
   "execution_count": 1,
   "metadata": {},
   "outputs": [],
   "source": [
    "# Import some libraries we'll need\n",
    "import pandas as pd\n",
    "import numpy as np\n",
    "import matplotlib.pyplot as plt\n",
    "import math as math\n",
    "import scipy.sparse as sps\n",
    "from scipy.sparse import csr_matrix"
   ]
  },
  {
   "cell_type": "code",
   "execution_count": 2,
   "metadata": {},
   "outputs": [],
   "source": [
    "def read_review_data(file_name):\n",
    "    review_data = pd.read_csv(file_name)\n",
    "    print \"Sample Data\"\n",
    "    print \"-----------\"\n",
    "    print review_data.sample(5)\n",
    "    return review_data"
   ]
  },
  {
   "cell_type": "code",
   "execution_count": 3,
   "metadata": {},
   "outputs": [
    {
     "data": {
      "text/html": [
       "<div>\n",
       "<style scoped>\n",
       "    .dataframe tbody tr th:only-of-type {\n",
       "        vertical-align: middle;\n",
       "    }\n",
       "\n",
       "    .dataframe tbody tr th {\n",
       "        vertical-align: top;\n",
       "    }\n",
       "\n",
       "    .dataframe thead th {\n",
       "        text-align: right;\n",
       "    }\n",
       "</style>\n",
       "<table border=\"1\" class=\"dataframe\">\n",
       "  <thead>\n",
       "    <tr style=\"text-align: right;\">\n",
       "      <th></th>\n",
       "      <th>hours.Wednesday</th>\n",
       "      <th>attributes.RestaurantsDelivery</th>\n",
       "      <th>attributes.Open24Hours</th>\n",
       "      <th>attributes.DogsAllowed</th>\n",
       "      <th>attributes.CoatCheck</th>\n",
       "      <th>postal_code</th>\n",
       "      <th>attributes.Smoking</th>\n",
       "      <th>hours.Thursday</th>\n",
       "      <th>attributes.DietaryRestrictions</th>\n",
       "      <th>city</th>\n",
       "      <th>...</th>\n",
       "      <th>attributes.RestaurantsAttire</th>\n",
       "      <th>hours.Sunday</th>\n",
       "      <th>attributes.GoodForMeal</th>\n",
       "      <th>attributes.GoodForDancing</th>\n",
       "      <th>attributes.AcceptsInsurance</th>\n",
       "      <th>attributes.RestaurantsReservations</th>\n",
       "      <th>attributes</th>\n",
       "      <th>attributes.RestaurantsTakeOut</th>\n",
       "      <th>attributes.BikeParking</th>\n",
       "      <th>attributes.OutdoorSeating</th>\n",
       "    </tr>\n",
       "  </thead>\n",
       "  <tbody>\n",
       "    <tr>\n",
       "      <th>0</th>\n",
       "      <td>11:0-21:0</td>\n",
       "      <td>False</td>\n",
       "      <td>NaN</td>\n",
       "      <td>NaN</td>\n",
       "      <td>NaN</td>\n",
       "      <td>T2E 6L6</td>\n",
       "      <td>NaN</td>\n",
       "      <td>11:0-21:0</td>\n",
       "      <td>NaN</td>\n",
       "      <td>Calgary</td>\n",
       "      <td>...</td>\n",
       "      <td>casual</td>\n",
       "      <td>NaN</td>\n",
       "      <td>NaN</td>\n",
       "      <td>NaN</td>\n",
       "      <td>NaN</td>\n",
       "      <td>True</td>\n",
       "      <td>{'BusinessParking': \"{'garage': False, 'street...</td>\n",
       "      <td>True</td>\n",
       "      <td>False</td>\n",
       "      <td>False</td>\n",
       "    </tr>\n",
       "  </tbody>\n",
       "</table>\n",
       "<p>1 rows × 61 columns</p>\n",
       "</div>"
      ],
      "text/plain": [
       "  hours.Wednesday attributes.RestaurantsDelivery attributes.Open24Hours  \\\n",
       "0       11:0-21:0                          False                    NaN   \n",
       "\n",
       "  attributes.DogsAllowed attributes.CoatCheck postal_code attributes.Smoking  \\\n",
       "0                    NaN                  NaN     T2E 6L6                NaN   \n",
       "\n",
       "  hours.Thursday attributes.DietaryRestrictions     city  \\\n",
       "0      11:0-21:0                            NaN  Calgary   \n",
       "\n",
       "             ...            attributes.RestaurantsAttire hours.Sunday  \\\n",
       "0            ...                                  casual          NaN   \n",
       "\n",
       "  attributes.GoodForMeal attributes.GoodForDancing  \\\n",
       "0                    NaN                       NaN   \n",
       "\n",
       "  attributes.AcceptsInsurance  attributes.RestaurantsReservations  \\\n",
       "0                         NaN                                True   \n",
       "\n",
       "                                          attributes  \\\n",
       "0  {'BusinessParking': \"{'garage': False, 'street...   \n",
       "\n",
       "  attributes.RestaurantsTakeOut  attributes.BikeParking  \\\n",
       "0                          True                   False   \n",
       "\n",
       "  attributes.OutdoorSeating  \n",
       "0                     False  \n",
       "\n",
       "[1 rows x 61 columns]"
      ]
     },
     "execution_count": 3,
     "metadata": {},
     "output_type": "execute_result"
    }
   ],
   "source": [
    "business_data = pd.read_csv('business.csv')\n",
    "business_data.head(1)"
   ]
  },
  {
   "cell_type": "code",
   "execution_count": 4,
   "metadata": {},
   "outputs": [],
   "source": [
    "business_data.set_index('business_id', inplace = True)"
   ]
  },
  {
   "cell_type": "code",
   "execution_count": 5,
   "metadata": {},
   "outputs": [],
   "source": [
    "def get_restaurant_data(review_data, business_data):\n",
    "    review_data['city'] = review_data.apply(lambda x: business_data.loc[x['business_id'], 'city'], axis=1)\n",
    "    review_data['cat'] = review_data.apply(lambda x: business_data.loc[x['business_id'], 'categories'], axis=1)\n",
    "    restaurant_reviews = review_data[review_data['cat'].str.contains(\"Restaurants\",na=False)]\n",
    "    return restaurant_reviews"
   ]
  },
  {
   "cell_type": "code",
   "execution_count": 6,
   "metadata": {},
   "outputs": [],
   "source": [
    "def get_city_restaurant_data(city, restaurant_reviews):\n",
    "    city_rest_data = restaurant_reviews.loc[review_data['city'] == city]\n",
    "    return city_rest_data"
   ]
  },
  {
   "cell_type": "code",
   "execution_count": 7,
   "metadata": {},
   "outputs": [
    {
     "name": "stdout",
     "output_type": "stream",
     "text": [
      "Sample Data\n",
      "-----------\n",
      "                      user_id             business_id  stars\n",
      "52146  7PVY7A7Top7ButcfLkTJTA  TCWMgOiV0PxQkWE1SyBIWQ      5\n",
      "54844  LvLaYXjvzdrPDXC3Zv3XoA  K7lWdNUhCbcnEvI0NhGewg      2\n",
      "81857  U4INQZOPSUaj8hMjLlZ3KA  iCQpiavjjPzJ5_3gPD5Ebg      4\n",
      "32282  De-dImXf-TOFWWPTUWwIvw  jobP3ywRd3QNZ_GCoPG2DQ      5\n",
      "41446  iH5YQPtx1qrNG4t2-DjI3Q  dKdApYVFDSNYsNOso6NYlA      3\n",
      "-----------------------------\n",
      "Filtering the Restaurant data\n",
      "-----------------------------\n",
      "                  user_id             business_id  stars       city  \\\n",
      "0  AuIK5tF2GjO7SftHawTLKw  I-5qHCVwT7k_KH67-YOx3A      4  Henderson   \n",
      "2  AuIK5tF2GjO7SftHawTLKw  Zmfq3DVhHdtVChhSxzoUHw      4  Las Vegas   \n",
      "3  AuIK5tF2GjO7SftHawTLKw  pybIuTluqRhH_BQ3CJHlLw      5  Las Vegas   \n",
      "\n",
      "                                                 cat  \n",
      "0  Desserts, Restaurants, American (Traditional),...  \n",
      "2                                  Restaurants, Thai  \n",
      "3                                  Thai, Restaurants  \n",
      "-----------------------------\n",
      "restaurant reviews top 10 cities\n",
      "-----------------------------\n",
      "Las Vegas          70488\n",
      "Henderson           7384\n",
      "North Las Vegas      247\n",
      "Boulder City         214\n",
      "Spring Valley        112\n",
      "Summerlin             93\n",
      "Blue Diamond          58\n",
      "South Las Vegas       52\n",
      "Name: city, dtype: int64\n",
      "-----------------------------\n"
     ]
    }
   ],
   "source": [
    "review_data = read_review_data('40core.csv')\n",
    "print '-----------------------------'\n",
    "print 'Filtering the Restaurant data'\n",
    "print '-----------------------------'\n",
    "restaurant_reviews = get_restaurant_data(review_data, business_data)\n",
    "print restaurant_reviews.head(3)\n",
    "print '-----------------------------'\n",
    "print 'restaurant reviews top 10 cities'\n",
    "print '-----------------------------'\n",
    "print restaurant_reviews['city'].value_counts().head(10)\n",
    "print '-----------------------------'\n",
    "vegas_40 = get_city_restaurant_data('Las Vegas', restaurant_reviews)"
   ]
  },
  {
   "cell_type": "code",
   "execution_count": 8,
   "metadata": {},
   "outputs": [
    {
     "name": "stderr",
     "output_type": "stream",
     "text": [
      "/anaconda2/lib/python2.7/site-packages/pandas/core/frame.py:3694: SettingWithCopyWarning: \n",
      "A value is trying to be set on a copy of a slice from a DataFrame\n",
      "\n",
      "See the caveats in the documentation: http://pandas.pydata.org/pandas-docs/stable/indexing.html#indexing-view-versus-copy\n",
      "  errors=errors)\n"
     ]
    }
   ],
   "source": [
    "vegas_40.reset_index(inplace=True)\n",
    "cols = ['index', 'cat', 'city']\n",
    "vegas_40.drop(cols, inplace=True, axis=1)"
   ]
  },
  {
   "cell_type": "code",
   "execution_count": 9,
   "metadata": {},
   "outputs": [],
   "source": [
    "from surprise import Reader\n",
    "from surprise import Dataset\n",
    "from surprise.model_selection import cross_validate\n",
    "from surprise import NormalPredictor\n",
    "from surprise import KNNBasic\n",
    "from surprise import KNNWithMeans\n",
    "from surprise import KNNWithZScore\n",
    "from surprise import KNNBaseline\n",
    "from surprise import SVD\n",
    "from surprise import BaselineOnly\n",
    "from surprise import SVDpp\n",
    "from surprise import NMF\n",
    "from surprise import SlopeOne\n",
    "from surprise import CoClustering\n",
    "from surprise.accuracy import rmse\n",
    "from surprise import accuracy\n",
    "from surprise.model_selection import train_test_split"
   ]
  },
  {
   "cell_type": "code",
   "execution_count": 10,
   "metadata": {},
   "outputs": [],
   "source": [
    "reader = Reader(rating_scale=(1, 5))\n",
    "data = Dataset.load_from_df(vegas_40[['user_id', 'business_id', 'stars']], reader)"
   ]
  },
  {
   "cell_type": "code",
   "execution_count": 11,
   "metadata": {},
   "outputs": [],
   "source": [
    "trainset, testset = train_test_split(data, test_size=0.25)"
   ]
  },
  {
   "cell_type": "code",
   "execution_count": 13,
   "metadata": {},
   "outputs": [],
   "source": [
    "svd = SVD(biased=False)"
   ]
  },
  {
   "cell_type": "code",
   "execution_count": 20,
   "metadata": {},
   "outputs": [],
   "source": [
    "param_grid = {'n_epochs': [5, 10], 'lr_all': [0.002, 0.005],\n",
    "              'reg_all': [0.01, 0.1, 0.4, 0.6], 'n_factors':[100,300,500], 'biased':[False]}"
   ]
  },
  {
   "cell_type": "code",
   "execution_count": 21,
   "metadata": {},
   "outputs": [],
   "source": [
    "from surprise.model_selection import GridSearchCV\n",
    "gs = GridSearchCV(SVD, param_grid, measures=['mae'], cv=3)"
   ]
  },
  {
   "cell_type": "code",
   "execution_count": 22,
   "metadata": {},
   "outputs": [],
   "source": [
    "gs.fit(data)"
   ]
  },
  {
   "cell_type": "code",
   "execution_count": 24,
   "metadata": {},
   "outputs": [
    {
     "data": {
      "text/plain": [
       "{'mae': 0.8025508385787404}"
      ]
     },
     "execution_count": 24,
     "metadata": {},
     "output_type": "execute_result"
    }
   ],
   "source": [
    "gs.best_score"
   ]
  },
  {
   "cell_type": "code",
   "execution_count": 25,
   "metadata": {},
   "outputs": [
    {
     "data": {
      "text/plain": [
       "{'mae': {'biased': False,\n",
       "  'lr_all': 0.005,\n",
       "  'n_epochs': 10,\n",
       "  'n_factors': 100,\n",
       "  'reg_all': 0.01}}"
      ]
     },
     "execution_count": 25,
     "metadata": {},
     "output_type": "execute_result"
    }
   ],
   "source": [
    "gs.best_params"
   ]
  },
  {
   "cell_type": "code",
   "execution_count": 26,
   "metadata": {},
   "outputs": [],
   "source": [
    "svd = SVD(biased=False, lr_all=0.05, n_epochs=10, n_factors=100, reg_all=0.01)"
   ]
  },
  {
   "cell_type": "code",
   "execution_count": 27,
   "metadata": {},
   "outputs": [
    {
     "name": "stdout",
     "output_type": "stream",
     "text": [
      "MAE:  0.8300\n"
     ]
    },
    {
     "data": {
      "text/plain": [
       "0.8300410631362501"
      ]
     },
     "execution_count": 27,
     "metadata": {},
     "output_type": "execute_result"
    }
   ],
   "source": [
    "predictions = svd.fit(trainset).test(testset)\n",
    "accuracy.mae(predictions)"
   ]
  },
  {
   "cell_type": "code",
   "execution_count": 33,
   "metadata": {},
   "outputs": [],
   "source": [
    "param_grid = {'n_factors':[100,150,200,250, 300,350,400,450, 500]}"
   ]
  },
  {
   "cell_type": "code",
   "execution_count": 34,
   "metadata": {},
   "outputs": [],
   "source": [
    "from surprise.model_selection import GridSearchCV\n",
    "gs = GridSearchCV(SVD, param_grid, measures=['mae'], cv=3)"
   ]
  },
  {
   "cell_type": "code",
   "execution_count": 35,
   "metadata": {},
   "outputs": [],
   "source": [
    "gs.fit(data)"
   ]
  },
  {
   "cell_type": "code",
   "execution_count": 36,
   "metadata": {},
   "outputs": [
    {
     "data": {
      "text/plain": [
       "{u'mean_fit_time': array([ 2.56945809,  3.46781898,  4.40062594,  5.29327528,  6.36720761,\n",
       "         7.4448057 ,  8.52768962, 12.12004399, 12.76911767]),\n",
       " u'mean_test_mae': array([0.73256896, 0.73525204, 0.73881196, 0.74249753, 0.74372603,\n",
       "        0.74729488, 0.75005685, 0.7502105 , 0.75258454]),\n",
       " u'mean_test_time': array([0.33552694, 0.35509237, 0.33023222, 0.35422762, 0.33065168,\n",
       "        0.35641106, 0.3347133 , 0.41052437, 0.3577923 ]),\n",
       " u'param_n_factors': [100, 150, 200, 250, 300, 350, 400, 450, 500],\n",
       " u'params': [{'n_factors': 100},\n",
       "  {'n_factors': 150},\n",
       "  {'n_factors': 200},\n",
       "  {'n_factors': 250},\n",
       "  {'n_factors': 300},\n",
       "  {'n_factors': 350},\n",
       "  {'n_factors': 400},\n",
       "  {'n_factors': 450},\n",
       "  {'n_factors': 500}],\n",
       " u'rank_test_mae': array([1, 2, 3, 4, 5, 6, 7, 8, 9]),\n",
       " u'split0_test_mae': array([0.73238964, 0.73633799, 0.73859127, 0.7428926 , 0.74550296,\n",
       "        0.74901756, 0.75063226, 0.75081363, 0.75664852]),\n",
       " u'split1_test_mae': array([0.73545029, 0.73802571, 0.7412542 , 0.74561371, 0.74616714,\n",
       "        0.74944123, 0.75283784, 0.7540359 , 0.75295697]),\n",
       " u'split2_test_mae': array([0.72986695, 0.73139242, 0.7365904 , 0.73898627, 0.73950799,\n",
       "        0.74342583, 0.74670045, 0.74578196, 0.74814814]),\n",
       " u'std_fit_time': array([2.29494490e-02, 1.18626481e-02, 2.28502701e-02, 1.64138458e-03,\n",
       "        1.32213063e-02, 7.50856037e-03, 2.70014202e-02, 2.05044884e+00,\n",
       "        1.80409328e+00]),\n",
       " u'std_test_mae': array([0.00228291, 0.00281479, 0.00191038, 0.00272002, 0.0029949 ,\n",
       "        0.00274129, 0.0025384 , 0.00339654, 0.00348024]),\n",
       " u'std_test_time': array([0.03103554, 0.03680246, 0.034469  , 0.03500082, 0.03590158,\n",
       "        0.03469836, 0.03849603, 0.06443692, 0.03196759])}"
      ]
     },
     "execution_count": 36,
     "metadata": {},
     "output_type": "execute_result"
    }
   ],
   "source": [
    "gs.cv_results"
   ]
  },
  {
   "cell_type": "code",
   "execution_count": 40,
   "metadata": {},
   "outputs": [
    {
     "data": {
      "image/png": "[encoded data removed]",
      "text/plain": [
       "<Figure size 576x360 with 1 Axes>"
      ]
     },
     "metadata": {},
     "output_type": "display_data"
    }
   ],
   "source": [
    "X=gs.cv_results['param_n_factors']\n",
    "Y=gs.cv_results['split0_test_mae']\n",
    "fig = plt.figure(figsize=(8,5))\n",
    "plt.plot(X, Y)\n",
    "plt.title('Latent Factor analysis')\n",
    "plt.xlabel('Number of latent factors')\n",
    "plt.ylabel('Mean absolute error')\n",
    "plt.show()"
   ]
  },
  {
   "cell_type": "code",
   "execution_count": 45,
   "metadata": {},
   "outputs": [
    {
     "data": {
      "text/plain": [
       "{u'mean_fit_time': array([2.72456169, 2.82444557, 2.56495404, 2.56544105, 2.55511999,\n",
       "        2.555691  , 2.5524617 , 2.55912836, 2.55699436]),\n",
       " u'mean_test_mae': array([0.73313803, 0.73221374, 0.77572431, 0.77577932, 0.77580708,\n",
       "        0.77611844, 1.16842583, 1.16842583, 1.16842583]),\n",
       " u'mean_test_time': array([0.39904571, 0.39122264, 0.35261464, 0.32290292, 0.34439731,\n",
       "        0.31728975, 0.34309212, 0.31372865, 0.34238577]),\n",
       " u'param_lr_all': [0.002, 0.005, 0.02, 0.05, 0.07, 0.1, 0.2, 0.3, 0.5],\n",
       " u'params': [{'lr_all': 0.002},\n",
       "  {'lr_all': 0.005},\n",
       "  {'lr_all': 0.02},\n",
       "  {'lr_all': 0.05},\n",
       "  {'lr_all': 0.07},\n",
       "  {'lr_all': 0.1},\n",
       "  {'lr_all': 0.2},\n",
       "  {'lr_all': 0.3},\n",
       "  {'lr_all': 0.5}],\n",
       " u'rank_test_mae': array([2, 1, 3, 4, 5, 6, 7, 8, 9]),\n",
       " u'split0_test_mae': array([0.72819377, 0.72639104, 0.77058244, 0.77020247, 0.76981636,\n",
       "        0.77321997, 1.16585802, 1.16585802, 1.16585802]),\n",
       " u'split1_test_mae': array([0.73800863, 0.73734509, 0.7813419 , 0.78191623, 0.78119295,\n",
       "        0.77964287, 1.16177222, 1.16177222, 1.16177222]),\n",
       " u'split2_test_mae': array([0.73321169, 0.7329051 , 0.77524858, 0.77521927, 0.77641194,\n",
       "        0.77549248, 1.17764726, 1.17764726, 1.17764726]),\n",
       " u'std_fit_time': array([0.16994423, 0.00505097, 0.01127891, 0.01747764, 0.00838625,\n",
       "        0.01068171, 0.0188187 , 0.01682888, 0.01763602]),\n",
       " u'std_test_mae': array([0.00400724, 0.00449861, 0.00440539, 0.00479849, 0.00466412,\n",
       "        0.00265924, 0.0067305 , 0.0067305 , 0.0067305 ]),\n",
       " u'std_test_time': array([0.0811368 , 0.09493215, 0.01745492, 0.03084666, 0.0309772 ,\n",
       "        0.02883188, 0.01955944, 0.03023198, 0.03936165])}"
      ]
     },
     "execution_count": 45,
     "metadata": {},
     "output_type": "execute_result"
    }
   ],
   "source": [
    "param_grid = {'lr_all':[0.002, 0.005, 0.02, 0.05, 0.07 , 0.1,0.2, 0.3, 0.5]}\n",
    "gs = GridSearchCV(SVD, param_grid, measures=['mae'], cv=3)\n",
    "gs.fit(data)\n",
    "gs.cv_results"
   ]
  },
  {
   "cell_type": "code",
   "execution_count": 47,
   "metadata": {},
   "outputs": [
    {
     "data": {
      "image/png": "[encoded data removed]",
      "text/plain": [
       "<Figure size 576x360 with 1 Axes>"
      ]
     },
     "metadata": {},
     "output_type": "display_data"
    }
   ],
   "source": [
    "X=gs.cv_results['param_lr_all']\n",
    "Y=gs.cv_results['mean_test_mae']\n",
    "fig = plt.figure(figsize=(8,5))\n",
    "plt.plot(X, Y)\n",
    "plt.title('Learning rate analysis')\n",
    "plt.xlabel('Learning rate')\n",
    "plt.ylabel('Mean absolute error')\n",
    "plt.show()"
   ]
  },
  {
   "cell_type": "code",
   "execution_count": 48,
   "metadata": {},
   "outputs": [
    {
     "data": {
      "text/plain": [
       "{u'mean_fit_time': array([2.70667203, 2.55993867, 2.68170158, 2.73873369, 2.65938965,\n",
       "        2.63783439, 2.61855801]),\n",
       " u'mean_test_mae': array([0.73562088, 0.72699636, 0.7298691 , 0.73350163, 0.74055928,\n",
       "        0.77650028, 0.78937875]),\n",
       " u'mean_test_time': array([0.41140509, 0.34350634, 0.3914779 , 0.34342035, 0.37864836,\n",
       "        0.3230439 , 0.35313535]),\n",
       " u'param_reg_all': [0.01, 0.1, 0.4, 0.6, 1, 5, 10],\n",
       " u'params': [{'reg_all': 0.01},\n",
       "  {'reg_all': 0.1},\n",
       "  {'reg_all': 0.4},\n",
       "  {'reg_all': 0.6},\n",
       "  {'reg_all': 1},\n",
       "  {'reg_all': 5},\n",
       "  {'reg_all': 10}],\n",
       " u'rank_test_mae': array([4, 1, 2, 3, 5, 6, 7]),\n",
       " u'split0_test_mae': array([0.73527474, 0.72754194, 0.72967191, 0.73305867, 0.7394204 ,\n",
       "        0.77424026, 0.78703684]),\n",
       " u'split1_test_mae': array([0.73770034, 0.72756932, 0.73090127, 0.73478094, 0.74218522,\n",
       "        0.77851705, 0.79146166]),\n",
       " u'split2_test_mae': array([0.73388756, 0.72587782, 0.72903413, 0.73266527, 0.74007223,\n",
       "        0.77674352, 0.78963775]),\n",
       " u'std_fit_time': array([0.06160308, 0.01538615, 0.11153923, 0.09476613, 0.07202246,\n",
       "        0.05618383, 0.02027222]),\n",
       " u'std_test_mae': array([0.00157569, 0.00079101, 0.00077491, 0.00091876, 0.0011801 ,\n",
       "        0.00175444, 0.00181569]),\n",
       " u'std_test_time': array([0.07520443, 0.02759853, 0.04931596, 0.02909303, 0.02626105,\n",
       "        0.03486515, 0.03901627])}"
      ]
     },
     "execution_count": 48,
     "metadata": {},
     "output_type": "execute_result"
    }
   ],
   "source": [
    "param_grid = {'reg_all': [0.01, 0.1, 0.4, 0.6, 1, 5, 10]}\n",
    "gs = GridSearchCV(SVD, param_grid, measures=['mae'], cv=3)\n",
    "gs.fit(data)\n",
    "gs.cv_results"
   ]
  },
  {
   "cell_type": "code",
   "execution_count": 49,
   "metadata": {},
   "outputs": [
    {
     "data": {
      "image/png": "[encoded data removed]",
      "text/plain": [
       "<Figure size 576x360 with 1 Axes>"
      ]
     },
     "metadata": {},
     "output_type": "display_data"
    }
   ],
   "source": [
    "X=gs.cv_results['param_reg_all']\n",
    "Y=gs.cv_results['mean_test_mae']\n",
    "fig = plt.figure(figsize=(8,5))\n",
    "plt.plot(X, Y)\n",
    "plt.title('Regularization analysis')\n",
    "plt.xlabel('Regularization parameter')\n",
    "plt.ylabel('Mean absolute error')\n",
    "plt.show()"
   ]
  },
  {
   "cell_type": "code",
   "execution_count": 50,
   "metadata": {},
   "outputs": [],
   "source": [
    "svd = SVD(biased=False, lr_all=0.05, n_epochs=10, n_factors=100, reg_all=0.01)\n",
    "predictions = svd.fit(trainset).test(testset)"
   ]
  },
  {
   "cell_type": "code",
   "execution_count": 51,
   "metadata": {},
   "outputs": [
    {
     "name": "stdout",
     "output_type": "stream",
     "text": [
      "17622\n"
     ]
    }
   ],
   "source": [
    "print len(predictions)"
   ]
  },
  {
   "cell_type": "code",
   "execution_count": null,
   "metadata": {},
   "outputs": [],
   "source": []
  }
 ],
 "metadata": {
  "kernelspec": {
   "display_name": "Python 2",
   "language": "python",
   "name": "python2"
  },
  "language_info": {
   "codemirror_mode": {
    "name": "ipython",
    "version": 2
   },
   "file_extension": ".py",
   "mimetype": "text/x-python",
   "name": "python",
   "nbconvert_exporter": "python",
   "pygments_lexer": "ipython2",
   "version": "2.7.15"
  }
 },
 "nbformat": 4,
 "nbformat_minor": 2
}
