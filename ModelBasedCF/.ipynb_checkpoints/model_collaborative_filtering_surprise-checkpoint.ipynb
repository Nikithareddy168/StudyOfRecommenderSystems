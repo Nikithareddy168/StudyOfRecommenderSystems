{
 "cells": [
  {
   "cell_type": "code",
   "execution_count": 1,
   "metadata": {},
   "outputs": [],
   "source": [
    "# Import some libraries we'll need\n",
    "import pandas as pd\n",
    "import numpy as np\n",
    "import matplotlib.pyplot as plt\n",
    "import math as math\n",
    "import scipy.sparse as sps\n",
    "from scipy.sparse import csr_matrix"
   ]
  },
  {
   "cell_type": "code",
   "execution_count": 2,
   "metadata": {},
   "outputs": [],
   "source": [
    "def read_review_data(file_name):\n",
    "    review_data = pd.read_csv(file_name)\n",
    "    print \"Sample Data\"\n",
    "    print \"-----------\"\n",
    "    print review_data.sample(5)\n",
    "    return review_data"
   ]
  },
  {
   "cell_type": "code",
   "execution_count": 3,
   "metadata": {},
   "outputs": [
    {
     "data": {
      "text/html": [
       "<div>\n",
       "<style scoped>\n",
       "    .dataframe tbody tr th:only-of-type {\n",
       "        vertical-align: middle;\n",
       "    }\n",
       "\n",
       "    .dataframe tbody tr th {\n",
       "        vertical-align: top;\n",
       "    }\n",
       "\n",
       "    .dataframe thead th {\n",
       "        text-align: right;\n",
       "    }\n",
       "</style>\n",
       "<table border=\"1\" class=\"dataframe\">\n",
       "  <thead>\n",
       "    <tr style=\"text-align: right;\">\n",
       "      <th></th>\n",
       "      <th>hours.Wednesday</th>\n",
       "      <th>attributes.RestaurantsDelivery</th>\n",
       "      <th>attributes.Open24Hours</th>\n",
       "      <th>attributes.DogsAllowed</th>\n",
       "      <th>attributes.CoatCheck</th>\n",
       "      <th>postal_code</th>\n",
       "      <th>attributes.Smoking</th>\n",
       "      <th>hours.Thursday</th>\n",
       "      <th>attributes.DietaryRestrictions</th>\n",
       "      <th>city</th>\n",
       "      <th>...</th>\n",
       "      <th>attributes.RestaurantsAttire</th>\n",
       "      <th>hours.Sunday</th>\n",
       "      <th>attributes.GoodForMeal</th>\n",
       "      <th>attributes.GoodForDancing</th>\n",
       "      <th>attributes.AcceptsInsurance</th>\n",
       "      <th>attributes.RestaurantsReservations</th>\n",
       "      <th>attributes</th>\n",
       "      <th>attributes.RestaurantsTakeOut</th>\n",
       "      <th>attributes.BikeParking</th>\n",
       "      <th>attributes.OutdoorSeating</th>\n",
       "    </tr>\n",
       "  </thead>\n",
       "  <tbody>\n",
       "    <tr>\n",
       "      <th>0</th>\n",
       "      <td>11:0-21:0</td>\n",
       "      <td>False</td>\n",
       "      <td>NaN</td>\n",
       "      <td>NaN</td>\n",
       "      <td>NaN</td>\n",
       "      <td>T2E 6L6</td>\n",
       "      <td>NaN</td>\n",
       "      <td>11:0-21:0</td>\n",
       "      <td>NaN</td>\n",
       "      <td>Calgary</td>\n",
       "      <td>...</td>\n",
       "      <td>casual</td>\n",
       "      <td>NaN</td>\n",
       "      <td>NaN</td>\n",
       "      <td>NaN</td>\n",
       "      <td>NaN</td>\n",
       "      <td>True</td>\n",
       "      <td>{'BusinessParking': \"{'garage': False, 'street...</td>\n",
       "      <td>True</td>\n",
       "      <td>False</td>\n",
       "      <td>False</td>\n",
       "    </tr>\n",
       "  </tbody>\n",
       "</table>\n",
       "<p>1 rows × 61 columns</p>\n",
       "</div>"
      ],
      "text/plain": [
       "  hours.Wednesday attributes.RestaurantsDelivery attributes.Open24Hours  \\\n",
       "0       11:0-21:0                          False                    NaN   \n",
       "\n",
       "  attributes.DogsAllowed attributes.CoatCheck postal_code attributes.Smoking  \\\n",
       "0                    NaN                  NaN     T2E 6L6                NaN   \n",
       "\n",
       "  hours.Thursday attributes.DietaryRestrictions     city  \\\n",
       "0      11:0-21:0                            NaN  Calgary   \n",
       "\n",
       "             ...            attributes.RestaurantsAttire hours.Sunday  \\\n",
       "0            ...                                  casual          NaN   \n",
       "\n",
       "  attributes.GoodForMeal attributes.GoodForDancing  \\\n",
       "0                    NaN                       NaN   \n",
       "\n",
       "  attributes.AcceptsInsurance  attributes.RestaurantsReservations  \\\n",
       "0                         NaN                                True   \n",
       "\n",
       "                                          attributes  \\\n",
       "0  {'BusinessParking': \"{'garage': False, 'street...   \n",
       "\n",
       "  attributes.RestaurantsTakeOut  attributes.BikeParking  \\\n",
       "0                          True                   False   \n",
       "\n",
       "  attributes.OutdoorSeating  \n",
       "0                     False  \n",
       "\n",
       "[1 rows x 61 columns]"
      ]
     },
     "execution_count": 3,
     "metadata": {},
     "output_type": "execute_result"
    }
   ],
   "source": [
    "business_data = pd.read_csv('business.csv')\n",
    "business_data.head(1)"
   ]
  },
  {
   "cell_type": "code",
   "execution_count": 4,
   "metadata": {},
   "outputs": [],
   "source": [
    "business_data.set_index('business_id', inplace = True)"
   ]
  },
  {
   "cell_type": "code",
   "execution_count": 5,
   "metadata": {},
   "outputs": [],
   "source": [
    "def get_restaurant_data(review_data, business_data):\n",
    "    review_data['city'] = review_data.apply(lambda x: business_data.loc[x['business_id'], 'city'], axis=1)\n",
    "    review_data['cat'] = review_data.apply(lambda x: business_data.loc[x['business_id'], 'categories'], axis=1)\n",
    "    restaurant_reviews = review_data[review_data['cat'].str.contains(\"Restaurants\",na=False)]\n",
    "    return restaurant_reviews"
   ]
  },
  {
   "cell_type": "code",
   "execution_count": 6,
   "metadata": {},
   "outputs": [],
   "source": [
    "def get_city_restaurant_data(city, restaurant_reviews):\n",
    "    city_rest_data = restaurant_reviews.loc[review_data['city'] == city]\n",
    "    return city_rest_data"
   ]
  },
  {
   "cell_type": "code",
   "execution_count": 7,
   "metadata": {},
   "outputs": [
    {
     "name": "stdout",
     "output_type": "stream",
     "text": [
      "Sample Data\n",
      "-----------\n",
      "                      user_id             business_id  stars\n",
      "52146  7PVY7A7Top7ButcfLkTJTA  TCWMgOiV0PxQkWE1SyBIWQ      5\n",
      "54844  LvLaYXjvzdrPDXC3Zv3XoA  K7lWdNUhCbcnEvI0NhGewg      2\n",
      "81857  U4INQZOPSUaj8hMjLlZ3KA  iCQpiavjjPzJ5_3gPD5Ebg      4\n",
      "32282  De-dImXf-TOFWWPTUWwIvw  jobP3ywRd3QNZ_GCoPG2DQ      5\n",
      "41446  iH5YQPtx1qrNG4t2-DjI3Q  dKdApYVFDSNYsNOso6NYlA      3\n",
      "-----------------------------\n",
      "Filtering the Restaurant data\n",
      "-----------------------------\n",
      "                  user_id             business_id  stars       city  \\\n",
      "0  AuIK5tF2GjO7SftHawTLKw  I-5qHCVwT7k_KH67-YOx3A      4  Henderson   \n",
      "2  AuIK5tF2GjO7SftHawTLKw  Zmfq3DVhHdtVChhSxzoUHw      4  Las Vegas   \n",
      "3  AuIK5tF2GjO7SftHawTLKw  pybIuTluqRhH_BQ3CJHlLw      5  Las Vegas   \n",
      "\n",
      "                                                 cat  \n",
      "0  Desserts, Restaurants, American (Traditional),...  \n",
      "2                                  Restaurants, Thai  \n",
      "3                                  Thai, Restaurants  \n",
      "-----------------------------\n",
      "restaurant reviews top 10 cities\n",
      "-----------------------------\n",
      "Las Vegas          70488\n",
      "Henderson           7384\n",
      "North Las Vegas      247\n",
      "Boulder City         214\n",
      "Spring Valley        112\n",
      "Summerlin             93\n",
      "Blue Diamond          58\n",
      "South Las Vegas       52\n",
      "Name: city, dtype: int64\n",
      "-----------------------------\n"
     ]
    }
   ],
   "source": [
    "review_data = read_review_data('40core.csv')\n",
    "print '-----------------------------'\n",
    "print 'Filtering the Restaurant data'\n",
    "print '-----------------------------'\n",
    "restaurant_reviews = get_restaurant_data(review_data, business_data)\n",
    "print restaurant_reviews.head(3)\n",
    "print '-----------------------------'\n",
    "print 'restaurant reviews top 10 cities'\n",
    "print '-----------------------------'\n",
    "print restaurant_reviews['city'].value_counts().head(10)\n",
    "print '-----------------------------'\n",
    "vegas_40 = get_city_restaurant_data('Las Vegas', restaurant_reviews)"
   ]
  },
  {
   "cell_type": "code",
   "execution_count": 8,
   "metadata": {},
   "outputs": [
    {
     "name": "stderr",
     "output_type": "stream",
     "text": [
      "/anaconda2/lib/python2.7/site-packages/pandas/core/frame.py:3694: SettingWithCopyWarning: \n",
      "A value is trying to be set on a copy of a slice from a DataFrame\n",
      "\n",
      "See the caveats in the documentation: http://pandas.pydata.org/pandas-docs/stable/indexing.html#indexing-view-versus-copy\n",
      "  errors=errors)\n"
     ]
    }
   ],
   "source": [
    "vegas_40.reset_index(inplace=True)\n",
    "cols = ['index', 'cat', 'city']\n",
    "vegas_40.drop(cols, inplace=True, axis=1)"
   ]
  },
  {
   "cell_type": "code",
   "execution_count": 9,
   "metadata": {},
   "outputs": [],
   "source": [
    "from surprise import Reader\n",
    "from surprise import Dataset\n",
    "from surprise.model_selection import cross_validate\n",
    "from surprise import NormalPredictor\n",
    "from surprise import KNNBasic\n",
    "from surprise import KNNWithMeans\n",
    "from surprise import KNNWithZScore\n",
    "from surprise import KNNBaseline\n",
    "from surprise import SVD\n",
    "from surprise import BaselineOnly\n",
    "from surprise import SVDpp\n",
    "from surprise import NMF\n",
    "from surprise import SlopeOne\n",
    "from surprise import CoClustering\n",
    "from surprise.accuracy import rmse\n",
    "from surprise import accuracy\n",
    "from surprise.model_selection import train_test_split"
   ]
  },
  {
   "cell_type": "code",
   "execution_count": 10,
   "metadata": {},
   "outputs": [],
   "source": [
    "reader = Reader(rating_scale=(1, 5))\n",
    "data = Dataset.load_from_df(vegas_40[['user_id', 'business_id', 'stars']], reader)"
   ]
  },
  {
   "cell_type": "code",
   "execution_count": 11,
   "metadata": {},
   "outputs": [],
   "source": [
    "trainset, testset = train_test_split(data, test_size=0.25)"
   ]
  },
  {
   "cell_type": "code",
   "execution_count": 13,
   "metadata": {},
   "outputs": [],
   "source": [
    "svd = SVD(biased=False)"
   ]
  },
  {
   "cell_type": "code",
   "execution_count": 14,
   "metadata": {},
   "outputs": [],
   "source": [
    "param_grid = {'n_epochs': [5, 10], 'lr_all': [0.002, 0.005],\n",
    "              'reg_all': [0.01, 0.1, 0.4, 0.6], 'n_factors':[100,300,500],}"
   ]
  },
  {
   "cell_type": "code",
   "execution_count": 16,
   "metadata": {},
   "outputs": [],
   "source": [
    "from surprise.model_selection import GridSearchCV\n",
    "gs = GridSearchCV(svd, param_grid, measures=['mae'], cv=3)"
   ]
  },
  {
   "cell_type": "code",
   "execution_count": null,
   "metadata": {},
   "outputs": [],
   "source": []
  }
 ],
 "metadata": {
  "kernelspec": {
   "display_name": "Python 2",
   "language": "python",
   "name": "python2"
  },
  "language_info": {
   "codemirror_mode": {
    "name": "ipython",
    "version": 2
   },
   "file_extension": ".py",
   "mimetype": "text/x-python",
   "name": "python",
   "nbconvert_exporter": "python",
   "pygments_lexer": "ipython2",
   "version": "2.7.15"
  }
 },
 "nbformat": 4,
 "nbformat_minor": 2
}
