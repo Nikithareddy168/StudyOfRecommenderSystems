{
 "cells": [
  {
   "cell_type": "code",
   "execution_count": 0,
   "metadata": {},
   "outputs": [],
   "source": [
    "# Import some libraries we'll need\n",
    "import pandas as pd\n",
    "import numpy as np\n",
    "import matplotlib.pyplot as plt\n",
    "import math as math\n",
    "import seaborn as sns\n",
    "from sklearn.model_selection import train_test_split\n",
    "from numpy import linalg as LA"
   ]
  },
  {
   "cell_type": "code",
   "execution_count": 0,
   "metadata": {},
   "outputs": [],
   "source": [
    "def read_review_data(file_name):\n",
    "    review_data = pd.read_csv(file_name)\n",
    "    print \"Sample Data\"\n",
    "    print \"-----------\"\n",
    "    print review_data.sample(5)\n",
    "    return review_data"
   ]
  },
  {
   "cell_type": "code",
   "execution_count": 0,
   "metadata": {},
   "outputs": [],
   "source": [
    "business_data = pd.read_csv('../business.csv')\n",
    "business_data.head(1)"
   ]
  },
  {
   "cell_type": "code",
   "execution_count": 0,
   "metadata": {},
   "outputs": [],
   "source": [
    "business_data.set_index('business_id', inplace = True)"
   ]
  },
  {
   "cell_type": "code",
   "execution_count": 0,
   "metadata": {},
   "outputs": [],
   "source": [
    "def get_restaurant_data(review_data, business_data):\n",
    "    review_data['city'] = review_data.apply(lambda x: business_data.loc[x['business_id'], 'city'], axis=1)\n",
    "    review_data['cat'] = review_data.apply(lambda x: business_data.loc[x['business_id'], 'categories'], axis=1)\n",
    "    restaurant_reviews = review_data[review_data['cat'].str.contains(\"Restaurants\",na=False)]\n",
    "    return restaurant_reviews\n",
    "\n",
    "def get_city_restaurant_data(city, restaurant_reviews):\n",
    "    city_rest_data = restaurant_reviews.loc[review_data['city'] == city]\n",
    "    return city_rest_data"
   ]
  },
  {
   "cell_type": "code",
   "execution_count": 0,
   "metadata": {},
   "outputs": [],
   "source": [
    "eider.env.getUploaded(\"40core.csv\", \"/tmp/40core.csv\")\n",
    "review_data = read_review_data('/tmp/40core.csv')\n",
    "print '-----------------------------'\n",
    "print 'Filtering the Restaurant data'\n",
    "print '-----------------------------'\n",
    "restaurant_reviews = get_restaurant_data(review_data, business_data)\n",
    "print restaurant_reviews.head(3)\n",
    "print '-----------------------------'\n",
    "print 'restaurant reviews top 10 cities'\n",
    "print '-----------------------------'\n",
    "print restaurant_reviews['city'].value_counts().head(10)\n",
    "print '-----------------------------'"
   ]
  },
  {
   "cell_type": "code",
   "execution_count": 0,
   "metadata": {},
   "outputs": [],
   "source": [
    "def get_city_restaurant_data(city, restaurant_reviews):\n",
    "    city_rest_data = restaurant_reviews.loc[review_data['city'] == city]\n",
    "    return city_rest_data\n",
    "\n",
    "vegas_df = get_city_restaurant_data('Las Vegas', restaurant_reviews)\n",
    "vegas_df.head()"
   ]
  },
  {
   "cell_type": "code",
   "execution_count": 0,
   "metadata": {},
   "outputs": [],
   "source": [
    "# Count number of unique users and number of unique restaurants in our dataset\n",
    "unique_users = vegas_df['user_id'].unique().tolist()\n",
    "unique_rests = vegas_df['business_id'].unique().tolist()\n",
    "num_user = len(unique_users)\n",
    "num_rest = len(unique_rests)\n",
    "\n",
    "# Split to train and test\n",
    "train, test = train_test_split(vegas_df, random_state = 8675309, stratify = vegas_df['business_id'])\n",
    "num_train = train.shape[0]\n",
    "num_test = test.shape[0]\n",
    "\n",
    "print \"Number of Users: {}\".format(num_user)\n",
    "print \"Number of restaurants: {}\".format(num_rest)"
   ]
  },
  {
   "cell_type": "code",
   "execution_count": 0,
   "metadata": {},
   "outputs": [],
   "source": [
    "user_ratings = vegas_df.groupby('user_id').agg(['count','mean']).reset_index()\n",
    "restaurant_ratings = vegas_df.groupby('business_id').agg(['count','mean']).reset_index()\n",
    "\n",
    "user_ratings.head()\n",
    "\n"
   ]
  },
  {
   "cell_type": "code",
   "execution_count": 0,
   "metadata": {},
   "outputs": [],
   "source": [
    "#   On the training dataset, what is the fraction of restaurants that have more that 32, 64, and 128 reviews respectively? How about the number of Users that have more than 32, 64, and 128 reviews respectively?\n",
    "\n",
    "def GetUserCountWithMoreReviews(review_num):\n",
    "    return user_ratings[user_ratings['stars']['count'] > review_num].shape[0]\n",
    "\n",
    "def GetRestaurantPercentWithMoreReviews(review_num):\n",
    "    return 100 * restaurant_ratings[restaurant_ratings['stars']['count'] > review_num].shape[0] / restaurant_ratings.shape[0]\n",
    "    \n",
    "print '{}% restaurants have more than {} reviews'.format(GetRestaurantPercentWithMoreReviews(128), 128)\n",
    "print '{}% restaurants have more than {} reviews'.format(GetRestaurantPercentWithMoreReviews(64), 64)\n",
    "print '{}% restaurants have more than {} reviews'.format(GetRestaurantPercentWithMoreReviews(32), 32)\n",
    "\n",
    "print '{} Users have more than {} reviews'.format(GetUserCountWithMoreReviews(128), 128)\n",
    "print '{} Users have more than {} reviews'.format(GetUserCountWithMoreReviews(64), 64)\n",
    "print '{} Users have more than {} reviews'.format(GetUserCountWithMoreReviews(32), 32)"
   ]
  },
  {
   "cell_type": "code",
   "execution_count": 0,
   "metadata": {},
   "outputs": [],
   "source": [
    "plt.xlabel('User Rating count')\n",
    "plt.ylabel('User Rating mean')\n",
    "plt.title('User rating count  - mean')\n",
    "plt.plot(user_ratings['stars']['count'], user_ratings['stars']['mean'], 'r.')\n",
    "plt.show()\n",
    "\n",
    "plt.xlabel('Restaurant Rating count')\n",
    "plt.ylabel('Restaurant Rating mean')\n",
    "plt.title('Restaurant rating count  - mean')\n",
    "plt.plot(restaurant_ratings['stars']['count'], restaurant_ratings['stars']['mean'], 'g.')\n",
    "plt.show()"
   ]
  },
  {
   "cell_type": "code",
   "execution_count": 0,
   "metadata": {},
   "outputs": [],
   "source": [
    "def construct_matrix(data_frame, total_set, row_label, col_label):\n",
    "    indexes = []\n",
    "    matrix = []\n",
    "    mask_matrix = []\n",
    "    for index, grouped in data_frame.groupby(row_label):\n",
    "        indexes.append(index)\n",
    "        joined_ratings = pd.merge(restaurant_ratings,grouped, on=col_label, how='outer').fillna(0)\n",
    "            \n",
    "        matrix.append(joined_ratings['stars'].tolist())\n",
    "        mask_matrix.append(joined_ratings['stars'].map(lambda x : 1 if x != 0 else 0))\n",
    "    return indexes, matrix, mask_matrix\n",
    "    \n",
    "train_user_index, train_user_ratings, train_user_ratings_mask = construct_matrix(train, user_ratings, 'user_id', 'business_id')\n",
    "test_user_index, test_user_ratings, test_user_ratings_mask = construct_matrix(test, user_ratings, 'user_id', 'business_id')"
   ]
  },
  {
   "cell_type": "code",
   "execution_count": 0,
   "metadata": {},
   "outputs": [],
   "source": [
    "print restaurant_ratings.sample()\n",
    "rest_avg_rating = vegas_df.groupby('business_id')['stars'].mean().reset_index(name='mean')\n",
    "a = np.ones((num_user, 1))\n",
    "f = np.array([rest_avg_rating['mean'].tolist()])\n",
    "baseline_p = np.dot(a, f)\n",
    "\n",
    "f_hist, bin_edges = np.histogram(f, bins=[3,3.5,4,4.5,5])\n",
    "plt.bar(bin_edges[:-1], f_hist)\n",
    "plt.show()"
   ]
  },
  {
   "cell_type": "code",
   "execution_count": 0,
   "metadata": {},
   "outputs": [],
   "source": [
    "def get_RMS(input_matrix, baseline, mask, K):\n",
    "    delta = input_matrix - baseline\n",
    "    return LA.norm(np.multiply(mask, delta)) / math.sqrt(K)\n",
    "\n",
    "print'train data RMS = {0}'.format(get_RMS(baseline_p, train_user_ratings, train_user_ratings_mask, num_train))"
   ]
  },
  {
   "cell_type": "code",
   "execution_count": 0,
   "metadata": {},
   "outputs": [],
   "source": [
    "def calculate(R, S, A, F):\n",
    "    return np.multiply(R, S - np.dot(A, F))\n",
    "    \n",
    "def calculate_LP(K, R, S, A, F):\n",
    "    norm = LA.norm(calculate(R, S, A, F))\n",
    "    return norm * norm / K\n",
    "\n",
    "def learn_AF(K, R, S, learning_rate, step, K_test, R_test, S_test):\n",
    "    seq_A = [np.random.rand(num_user,2)]\n",
    "    seq_F = [np.random.rand(2, num_rest)]\n",
    "    train_seq_LP = [calculate_LP(K, R, S, seq_A[-1], seq_F[-1])]\n",
    "    test_seq_LP = [calculate_LP(K_test, R_test, S_test, seq_A[-1], seq_F[-1])]\n",
    "    for i in range(step):\n",
    "        prev_A = seq_A[-1]\n",
    "        prev_F = seq_F[-1]\n",
    "        F_T = np.transpose(prev_F)\n",
    "        A_T = np.transpose(prev_A)\n",
    "        temp = calculate(R, S, prev_A, prev_F) \n",
    "        seq_A.append(prev_A - (-2.0) * np.dot(temp, F_T) * learning_rate / K)\n",
    "        seq_F.append(prev_F - (-2.0) * np.dot(A_T, temp) * learning_rate / K)\n",
    "        train_seq_LP.append(calculate_LP(K, R, S, seq_A[-1], seq_F[-1]))\n",
    "        test_seq_LP.append(calculate_LP(K_test, R_test, S_test, seq_A[-1], seq_F[-1]))\n",
    "    plt.xlabel('step')\n",
    "    plt.ylabel('L(p)')\n",
    "    plt.title('Training data Learning graph, rate = ' + str(learning_rate))\n",
    "    plt.plot(range(step + 1),train_seq_LP)\n",
    "    plt.show()\n",
    "    plt.xlabel('step')\n",
    "    plt.ylabel('L(p)')\n",
    "    plt.title('Test data Learning graph, rate = ' + str(learning_rate))\n",
    "    plt.plot(range(step + 1),test_seq_LP)\n",
    "    plt.show()\n",
    "    return seq_A, seq_F, train_seq_LP, test_seq_LP\n",
    "\n",
    "a_params_seq, f_params_seq, train_lp_seq, test_lp_seq = learn_AF(train.shape[0], train_user_ratings_mask, train_user_ratings, 50.0, 50, test.shape[0], test_user_ratings_mask, test_user_ratings)\n",
    "\n",
    "prediction =  np.dot(a_params_seq[-1], f_params_seq[-1])\n",
    "print \"learning result, prediction = {}\".format(prediction)\n",
    "print \"test prediction RMS = {}\".format(get_RMS(prediction, test_user_ratings, test_user_ratings_mask, test.shape[0]))"
   ]
  }
 ],
 "metadata": {
  "kernelspec": {
   "display_name": "Python 2",
   "language": "python",
   "name": "python2"
  },
  "language_info": {
   "codemirror_mode": {
    "name": "ipython",
    "version": 2
   },
   "file_extension": ".py",
   "mimetype": "text/x-python",
   "name": "python",
   "nbconvert_exporter": "python",
   "pygments_lexer": "ipython2",
   "version": "2.7.16"
  }
 },
 "nbformat": 4,
 "nbformat_minor": 2
}
